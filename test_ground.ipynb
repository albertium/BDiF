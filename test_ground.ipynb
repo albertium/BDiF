{
 "cells": [
  {
   "cell_type": "code",
   "execution_count": 2,
   "metadata": {},
   "outputs": [],
   "source": [
    "from mpi4py import MPI\n",
    "\n",
    "comm = MPI.COMM_WORLD\n",
    "mode = MPI.MODE_RDONLY\n",
    "fh = MPI.File.Open(comm, \"data-small.txt\", mode)\n",
    "\n",
    "# set read size parameter\n",
    "file_size = fh.Get_size()\n",
    "num_process = comm.Get_size()\n",
    "rank = comm.Get_rank()\n",
    "chunk_size = file_size / num_process\n",
    "\n",
    "# read all\n",
    "buf = bytearray(file_size)\n",
    "fh.Read_all(buf)\n",
    "\n",
    "raw = buf.decode()"
   ]
  },
  {
   "cell_type": "code",
   "execution_count": 76,
   "metadata": {},
   "outputs": [
    {
     "name": "stdout",
     "output_type": "stream",
     "text": [
      "100000\n[('20140804:10:00:13.281486', 782.83, 443355), ('20140804:10:00:13.400113', 955.71, 348603), ('20140804:10:00:13.555512', 1206.38, 467175), ('20140804:10:00:13.435677', 1033.5, 230056), ('20140804:10:00:13.721646', 1107.49, 677398)]\n[('20140804:10:02:12.638035', 1421.72, 656296), ('20140804:10:02:12.711615', 1169.65, 92178), ('20140804:10:02:12.906953', 1082.16, 643781), ('20140804:10:02:12.012361', 1109.63, 659206), ('20140804:10:02:12.330983', 975.89, 310894)]\n"
     ]
    }
   ],
   "source": [
    "ts = [(x[0], float(x[1]), int(x[2])) for row in raw.split(\"\\r\\n\") for x in [row.split(\",\")] if len(x) == 3]\n",
    "print(len(ts))\n",
    "print(ts[:5])\n",
    "print(ts[-5:])"
   ]
  },
  {
   "cell_type": "code",
   "execution_count": 94,
   "metadata": {},
   "outputs": [],
   "source": [
    "import numpy as np"
   ]
  },
  {
   "cell_type": "code",
   "execution_count": 133,
   "metadata": {
    "collapsed": true
   },
   "outputs": [
    {
     "name": "stdout",
     "output_type": "stream",
     "text": [
      "871\n1085\n99882\n0.49394\n"
     ]
    }
   ],
   "source": [
    "# find out the longest misplacement\n",
    "\n",
    "tmp = [x[0] for x in ts]\n",
    "rank = np.argsort(tmp)\n",
    "rev = np.maximum(rank - np.arange(len(tmp)), 0)\n",
    "cdf = np.sort(rev)\n",
    "\n",
    "print(cdf[99000]) # 99% quantile is 871\n",
    "print(cdf[99900]) # 99.9% quantile is 1085\n",
    "print(cdf[-1]) # 100% quantile is 99882\n",
    "print(np.sum(cdf>0)/len(cdf)) # 50% of records are misplaced"
   ]
  },
  {
   "cell_type": "code",
   "execution_count": 136,
   "metadata": {},
   "outputs": [],
   "source": [
    "# duplicates - record, time, (price, vol)\n",
    "# a paper about filtering tick data\n",
    "# erratic price on thin volume\n",
    "# t2 from (t1, t2, t3) is out of wreck. use brownian bridge?"
   ]
  },
  {
   "cell_type": "code",
   "execution_count": null,
   "metadata": {},
   "outputs": [],
   "source": [
    ""
   ]
  }
 ],
 "metadata": {
  "kernelspec": {
   "display_name": "Python 2",
   "language": "python",
   "name": "python2"
  },
  "language_info": {
   "codemirror_mode": {
    "name": "ipython",
    "version": 2.0
   },
   "file_extension": ".py",
   "mimetype": "text/x-python",
   "name": "python",
   "nbconvert_exporter": "python",
   "pygments_lexer": "ipython2",
   "version": "2.7.6"
  }
 },
 "nbformat": 4,
 "nbformat_minor": 0
}